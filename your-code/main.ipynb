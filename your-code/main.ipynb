{
  "cells": [
    {
      "cell_type": "markdown",
      "metadata": {
        "id": "HRjs4CVlY6Xe"
      },
      "source": [
        "# Before your start:\n",
        "\n",
        "    Read the README.md file\n",
        "    Comment as much as you can and use the resources (README.md file)\n",
        "    Happy learning!"
      ]
    },
    {
      "cell_type": "markdown",
      "metadata": {
        "id": "TjoqXylSY6Xf"
      },
      "source": [
        "In this exercise, we  will generate random numbers from the continuous disributions we learned in the lesson. There are two ways to generate random numbers:\n",
        "\n",
        "1. Using the numpy library \n",
        "1. using the Scipy library \n",
        "\n",
        "Use either or both of the lbraries in this exercise."
      ]
    },
    {
      "cell_type": "code",
      "source": [
        "import numpy as np\n",
        "import matplotlib.pyplot as plt\n",
        "from scipy.stats import uniform\n",
        "from scipy.stats import norm\n",
        "import math\n"
      ],
      "metadata": {
        "id": "M92OKAQ8nTiV"
      },
      "execution_count": 1,
      "outputs": []
    },
    {
      "cell_type": "markdown",
      "metadata": {
        "id": "F7CBJMBDY6Xf"
      },
      "source": [
        "## Uniform Distribution\n",
        "\n",
        "To generate uniform random numbers between any two given values using scipy, we can either use the following code or the code that we have\n",
        "discussed in class:"
      ]
    },
    {
      "cell_type": "code",
      "execution_count": 2,
      "metadata": {
        "id": "P8vUZqWkY6Xg",
        "outputId": "f2ac0e21-9c81-4f5e-f062-5896fd1a034f",
        "colab": {
          "base_uri": "https://localhost:8080/"
        }
      },
      "outputs": [
        {
          "output_type": "stream",
          "name": "stdout",
          "text": [
            "[2.59788003 2.93009328 2.42835521 2.70833765 2.45967636 2.52040632\n",
            " 2.25059057 2.61059083 2.18207504 2.23814563]\n"
          ]
        }
      ],
      "source": [
        "from scipy.stats import uniform\n",
        "x = uniform.rvs(size=10)\n",
        "a = 2\n",
        "b = 3\n",
        "randoms  = a + (b-a)*x\n",
        "print(randoms)"
      ]
    },
    {
      "cell_type": "markdown",
      "metadata": {
        "id": "CrjLRCRPY6Xg"
      },
      "source": [
        "**Your task:**\n",
        "\n",
        "1. Based on the code above, write a function that generates uniformly distributed random numbers. There are several requirements for your function:\n",
        "    * It should accept 3 parameters: \n",
        "        * `bottom` - the lower boundary of the generated numbers\n",
        "        * `ceiling` - the upper boundary of the generated numbers\n",
        "        * `count` - how many numbers to generate\n",
        "    * It should return an array of uniformly distributed random numbers\n",
        "\n",
        "1. Call your function with 2 sets of params below:\n",
        "    * bottom=10, ceiling=15, count=100\n",
        "    * bottom=10, ceiling=60, count=1,000\n",
        "\n",
        "1. Plot the uniform distributions generated above using histograms, where x axis is the value and y axis is the count. Let the histogram's number of bins be 10.\n",
        "\n",
        "Your output should look like below:\n",
        "\n",
        "![uniform distribution](https://github.com/saulrubio75/lab-continuous-probability-distribution/blob/master/your-code/ud.png?raw=1)"
      ]
    },
    {
      "cell_type": "code",
      "execution_count": 9,
      "metadata": {
        "id": "3r55iWogY6Xh"
      },
      "outputs": [],
      "source": [
        "# your code here\n",
        "def dist_random(bottom,ceiling,count):\n",
        "    x = uniform.rvs(size=count)\n",
        "    randoms  = bottom + (ceiling-bottom)*x\n",
        "    return randoms\n",
        "x=dist_random(10,15,10)\n",
        "\n",
        "\n"
      ]
    },
    {
      "cell_type": "code",
      "source": [
        "\n",
        "x=dist_random(10,15,100)\n",
        "y=dist_random(10,60,1000)\n",
        "fig, (ax1,ax2) =plt.subplots(1,2, sharey=True)\n",
        "ax1.hist(x, bins= 10);\n",
        "ax2.hist(y, bins=10);\n",
        "\n"
      ],
      "metadata": {
        "id": "FIW_uRyeQ4AN",
        "outputId": "19c62fcb-74e1-4ad5-be07-66c2c7f8d1f3",
        "colab": {
          "base_uri": "https://localhost:8080/",
          "height": 265
        }
      },
      "execution_count": 10,
      "outputs": [
        {
          "output_type": "display_data",
          "data": {
            "text/plain": [
              "<Figure size 432x288 with 2 Axes>"
            ],
            "image/png": "[encoded data removed]"
          },
          "metadata": {
            "needs_background": "light"
          }
        }
      ]
    },
    {
      "cell_type": "markdown",
      "metadata": {
        "id": "2CQ15lOQY6Xh"
      },
      "source": [
        "How are the two distributions different?"
      ]
    },
    {
      "cell_type": "code",
      "execution_count": null,
      "metadata": {
        "id": "seCjURSjY6Xh"
      },
      "outputs": [],
      "source": [
        "# your answer below\n",
        "\"The counts help us to have a distribition more equal\""
      ]
    },
    {
      "cell_type": "markdown",
      "metadata": {
        "id": "JMJNrM4rY6Xh"
      },
      "source": [
        "## Normal Distribution\n",
        "\n",
        "1. In the same way in the Uniform Distribution challenge, write a function that generates normally distributed random numbers.\n",
        "1. Generate 1,000 normally distributed numbers with the average of 10 and standard deviation of 1\n",
        "1. Generate 1,000 normally distributed numbers with the average of 10 and standard deviation of 50\n",
        "2. Plot the distributions of the data generated.\n",
        "\n",
        "Expected output:\n",
        "\n",
        "![normal distribution](https://github.com/saulrubio75/lab-continuous-probability-distribution/blob/master/your-code/nd.png?raw=1)"
      ]
    },
    {
      "cell_type": "code",
      "execution_count": 11,
      "metadata": {
        "id": "0I1uMwuSY6Xi"
      },
      "outputs": [],
      "source": [
        "# your code here\n",
        "def normal_random(siz,mean,stdev):\n",
        "    normal = norm(mean, stdev)\n",
        "    random_normal=normal.rvs(size=siz, random_state=0)\n",
        "    return random_normal\n",
        "x=normal_random(1000,10,1)\n",
        "y=normal_random(1000,10,50)\n"
      ]
    },
    {
      "cell_type": "code",
      "source": [
        "fig, (ax1,ax2) =plt.subplots(1,2, sharey=True)\n",
        "ax1.hist(x, bins= 100);\n",
        "ax2.hist(y, bins=100);\n"
      ],
      "metadata": {
        "id": "3IWkeF4lTgTf",
        "outputId": "11dbddf4-1413-43b3-dce6-c8d3c291523d",
        "colab": {
          "base_uri": "https://localhost:8080/",
          "height": 265
        }
      },
      "execution_count": 12,
      "outputs": [
        {
          "output_type": "display_data",
          "data": {
            "text/plain": [
              "<Figure size 432x288 with 2 Axes>"
            ],
            "image/png": "[encoded data removed]"
          },
          "metadata": {
            "needs_background": "light"
          }
        }
      ]
    },
    {
      "cell_type": "markdown",
      "metadata": {
        "id": "AuNcZWhyY6Xi"
      },
      "source": [
        "How are the two distributions different?"
      ]
    },
    {
      "cell_type": "code",
      "execution_count": null,
      "metadata": {
        "id": "CRPT9disY6Xi"
      },
      "outputs": [],
      "source": [
        "# your answer below"
      ]
    },
    {
      "cell_type": "markdown",
      "metadata": {
        "id": "_tnlh24HY6Xi"
      },
      "source": [
        "## Normal Distribution of Real Data\n",
        "\n",
        "In this challenge we are going to take a look the real data. We will use vehicles.csv file for this exercise"
      ]
    },
    {
      "cell_type": "markdown",
      "metadata": {
        "id": "I97WT2_jY6Xi"
      },
      "source": [
        "First import vehicles.csv.\n",
        "Then plot the histograms for the following variables:\n",
        "\n",
        "1. Fuel Barrels/Year"
      ]
    },
    {
      "cell_type": "code",
      "execution_count": 16,
      "metadata": {
        "id": "OSRq-Gw5Y6Xi",
        "outputId": "3c00c1a8-85ff-45b4-d88d-0455a7888c18",
        "colab": {
          "base_uri": "https://localhost:8080/",
          "height": 353
        }
      },
      "outputs": [
        {
          "output_type": "stream",
          "name": "stderr",
          "text": [
            "/usr/local/lib/python3.8/dist-packages/seaborn/distributions.py:2619: FutureWarning: `distplot` is a deprecated function and will be removed in a future version. Please adapt your code to use either `displot` (a figure-level function with similar flexibility) or `histplot` (an axes-level function for histograms).\n",
            "  warnings.warn(msg, FutureWarning)\n"
          ]
        },
        {
          "output_type": "execute_result",
          "data": {
            "text/plain": [
              "17.609055502328133"
            ]
          },
          "metadata": {},
          "execution_count": 16
        },
        {
          "output_type": "display_data",
          "data": {
            "text/plain": [
              "<Figure size 432x288 with 1 Axes>"
            ],
            "image/png": "[encoded data removed]"
          },
          "metadata": {
            "needs_background": "light"
          }
        }
      ],
      "source": [
        "# your code here\n",
        "\n",
        "import seaborn as sns\n",
        "import pandas as pd\n",
        "data = pd.read_csv('https://raw.githubusercontent.com/ta-data-mex/lab-continuous-probability-distribution/master/your-code/vehicles.csv')\n",
        "sns.distplot(data['Fuel Barrels/Year']);\n",
        "data['Fuel Barrels/Year'].mean()\n"
      ]
    },
    {
      "cell_type": "markdown",
      "metadata": {
        "id": "yexwkSzAY6Xi"
      },
      "source": [
        "2. CO2 Emission Grams/Mile "
      ]
    },
    {
      "cell_type": "code",
      "execution_count": 18,
      "metadata": {
        "id": "eJpRRvRiY6Xi",
        "outputId": "7c565bb3-d267-4c19-809c-f54cabec3b62",
        "colab": {
          "base_uri": "https://localhost:8080/",
          "height": 353
        }
      },
      "outputs": [
        {
          "output_type": "stream",
          "name": "stderr",
          "text": [
            "/usr/local/lib/python3.8/dist-packages/seaborn/distributions.py:2619: FutureWarning: `distplot` is a deprecated function and will be removed in a future version. Please adapt your code to use either `displot` (a figure-level function with similar flexibility) or `histplot` (an axes-level function for histograms).\n",
            "  warnings.warn(msg, FutureWarning)\n"
          ]
        },
        {
          "output_type": "execute_result",
          "data": {
            "text/plain": [
              "475.3163392572124"
            ]
          },
          "metadata": {},
          "execution_count": 18
        },
        {
          "output_type": "display_data",
          "data": {
            "text/plain": [
              "<Figure size 432x288 with 1 Axes>"
            ],
            "image/png": "[encoded data removed]"
          },
          "metadata": {
            "needs_background": "light"
          }
        }
      ],
      "source": [
        "# your code here\n",
        "sns.distplot(data['CO2 Emission Grams/Mile']);\n",
        "data['CO2 Emission Grams/Mile'].mean()"
      ]
    },
    {
      "cell_type": "markdown",
      "metadata": {
        "id": "Mryb1TSfY6Xj"
      },
      "source": [
        "3. Combined MPG"
      ]
    },
    {
      "cell_type": "code",
      "execution_count": 19,
      "metadata": {
        "id": "S8GPvJUVY6Xj",
        "outputId": "0fb0e4c4-e6ee-48bb-87a3-81308b67a573",
        "colab": {
          "base_uri": "https://localhost:8080/",
          "height": 353
        }
      },
      "outputs": [
        {
          "output_type": "stream",
          "name": "stderr",
          "text": [
            "/usr/local/lib/python3.8/dist-packages/seaborn/distributions.py:2619: FutureWarning: `distplot` is a deprecated function and will be removed in a future version. Please adapt your code to use either `displot` (a figure-level function with similar flexibility) or `histplot` (an axes-level function for histograms).\n",
            "  warnings.warn(msg, FutureWarning)\n"
          ]
        },
        {
          "output_type": "execute_result",
          "data": {
            "text/plain": [
              "19.92932242990654"
            ]
          },
          "metadata": {},
          "execution_count": 19
        },
        {
          "output_type": "display_data",
          "data": {
            "text/plain": [
              "<Figure size 432x288 with 1 Axes>"
            ],
            "image/png": "[encoded data removed]"
          },
          "metadata": {
            "needs_background": "light"
          }
        }
      ],
      "source": [
        "# your code here \n",
        "sns.distplot(data['Combined MPG']);\n",
        "data['Combined MPG'].mean()"
      ]
    },
    {
      "cell_type": "markdown",
      "metadata": {
        "id": "PPOlLmeRY6Xj"
      },
      "source": [
        "Which one(s) of the variables are nearly normally distributed? How do you know?"
      ]
    },
    {
      "cell_type": "code",
      "execution_count": 20,
      "metadata": {
        "id": "yVj64LvPY6Xj"
      },
      "outputs": [],
      "source": [
        "# your answer here\n"
      ]
    },
    {
      "cell_type": "markdown",
      "metadata": {
        "id": "IWLdkfRCY6Xj"
      },
      "source": [
        "## Exponential Distribution"
      ]
    },
    {
      "cell_type": "markdown",
      "metadata": {
        "id": "Bq4-gWiQY6Xj"
      },
      "source": [
        "1. Using `numpy.random.exponential`, create a function that returns a list of numbers exponentially distributed with the mean of 10. \n",
        "\n",
        "1. Use the function to generate two number sequences with the size of 1 and 100.\n",
        "\n",
        "1. Plot the distributions as histograms with the nubmer of bins as 100.\n",
        "\n",
        "Your output should look like below:\n",
        "\n",
        "![exponential distribution](https://github.com/saulrubio75/lab-continuous-probability-distribution/blob/master/your-code/ed.png?raw=1)"
      ]
    },
    {
      "cell_type": "code",
      "execution_count": 21,
      "metadata": {
        "id": "2HNZQZKRY6Xj",
        "outputId": "bbc6c560-19c6-4fd7-f6d1-6a3239e06dd9",
        "colab": {
          "base_uri": "https://localhost:8080/",
          "height": 265
        }
      },
      "outputs": [
        {
          "output_type": "display_data",
          "data": {
            "text/plain": [
              "<Figure size 432x288 with 2 Axes>"
            ],
            "image/png": "[encoded data removed]"
          },
          "metadata": {
            "needs_background": "light"
          }
        }
      ],
      "source": [
        "# your code here\n",
        "def exponential_random(mean,siz):\n",
        "    exp_ran=np.random.exponential(mean,siz)\n",
        "    return exp_ran\n",
        "x=exponential_random(10,1000)\n",
        "y=exponential_random(10,10000)\n",
        "\n",
        "\n",
        "fig, (ax1,ax2) =plt.subplots(1,2)\n",
        "ax1.hist(x, bins= 100);\n",
        "ax2.hist(y, bins=100);"
      ]
    },
    {
      "cell_type": "markdown",
      "metadata": {
        "id": "MeYtJVJ5Y6Xj"
      },
      "source": [
        "How are the two distributions different?"
      ]
    },
    {
      "cell_type": "code",
      "execution_count": null,
      "metadata": {
        "id": "61gKkh83Y6Xj"
      },
      "outputs": [],
      "source": [
        "# your answer here"
      ]
    },
    {
      "cell_type": "markdown",
      "metadata": {
        "id": "7yQZ903qY6Xj"
      },
      "source": [
        "## Exponential Distribution of Real Data\n",
        "\n",
        "Suppose that the amount of time one spends in a bank is exponentially distributed with mean as 10 minutes (i.e. λ = 1/10). What is the probability that a customer will spend less than fifteen minutes in the bank? \n",
        "\n",
        "Write a code in python to solve this problem"
      ]
    },
    {
      "cell_type": "code",
      "execution_count": 22,
      "metadata": {
        "id": "0Mo1sdXJY6Xj",
        "outputId": "fe1528cc-08a8-46be-d5cb-3c26cd704988",
        "colab": {
          "base_uri": "https://localhost:8080/",
          "height": 283
        }
      },
      "outputs": [
        {
          "output_type": "stream",
          "name": "stdout",
          "text": [
            "The probability is less than 15 min 0.7768698398515702\n"
          ]
        },
        {
          "output_type": "display_data",
          "data": {
            "text/plain": [
              "<Figure size 432x288 with 2 Axes>"
            ],
            "image/png": "[encoded data removed]"
          },
          "metadata": {
            "needs_background": "light"
          }
        }
      ],
      "source": [
        "# your answer here\n",
        "# Hint: This is same as saying P(x<15) \n",
        "\n",
        "from scipy.stats import expon\n",
        "exp = expon(scale=10) \n",
        "print(\"The probability is less than 15 min\",exp.cdf(15))       \n",
        "x = np.linspace(0,30,100)\n",
        "y = expon.cdf(x, scale=10)\n",
        "z = expon.pdf(x, scale=10)\n",
        "fig, (ax1,ax2) =plt.subplots(1,2)\n",
        "ax1.plot(x,y);\n",
        "ax2.plot(x,z);\n"
      ]
    },
    {
      "cell_type": "markdown",
      "metadata": {
        "id": "j9BQ1e7NY6Xj"
      },
      "source": [
        "What is the probability that the customer will spend more than 15 minutes"
      ]
    },
    {
      "cell_type": "code",
      "execution_count": null,
      "metadata": {
        "id": "zRFe11DYY6Xk"
      },
      "outputs": [],
      "source": [
        "# your answer here \n"
      ]
    },
    {
      "cell_type": "code",
      "execution_count": null,
      "metadata": {
        "id": "AkTONpVmY6Xk"
      },
      "outputs": [],
      "source": []
    }
  ],
  "metadata": {
    "kernelspec": {
      "display_name": "Python 3",
      "language": "python",
      "name": "python3"
    },
    "language_info": {
      "codemirror_mode": {
        "name": "ipython",
        "version": 3
      },
      "file_extension": ".py",
      "mimetype": "text/x-python",
      "name": "python",
      "nbconvert_exporter": "python",
      "pygments_lexer": "ipython3",
      "version": "3.7.3"
    },
    "colab": {
      "provenance": []
    }
  },
  "nbformat": 4,
  "nbformat_minor": 0
}